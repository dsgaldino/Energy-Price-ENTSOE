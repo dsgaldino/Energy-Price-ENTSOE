{
 "cells": [
  {
   "cell_type": "markdown",
   "id": "44e15106",
   "metadata": {},
   "source": [
    "# Energy Price\n",
    "\n",
    "This application retrieves the price information provided by the Entsoe transparency portal, \n",
    "starting from the requested date up to today's date. The values are transformed from MWh to KWh."
   ]
  },
  {
   "cell_type": "markdown",
   "id": "b7869154",
   "metadata": {},
   "source": [
    "#### Importing Libraries"
   ]
  },
  {
   "cell_type": "code",
   "execution_count": 1,
   "id": "24e7a780",
   "metadata": {},
   "outputs": [],
   "source": [
    "import pandas as pd\n",
    "import requests\n",
    "import csv\n",
    "from datetime import timedelta, datetime, date"
   ]
  },
  {
   "cell_type": "markdown",
   "id": "9d3fbd99",
   "metadata": {},
   "source": [
    "#### Define the url"
   ]
  },
  {
   "cell_type": "code",
   "execution_count": 2,
   "id": "88eb2ae8",
   "metadata": {},
   "outputs": [],
   "source": [
    "# URL\n",
    "start_url = 'https://transparency.entsoe.eu/transmission-domain/r2/dayAheadPrices/show?name=&defaultValue=false&viewType=TABLE&areaType=BZN&atch=false&dateTime.dateTime='\n",
    "end_url = '+00:00|CET|DAY&biddingZone.values=CTY|10YNL----------L!BZN|10YNL----------L&resolution.values=PT60M&dateTime.timezone=CET_CEST&dateTime.timezone_input=CET+(UTC+1)+/+CEST+(UTC+2)'"
   ]
  },
  {
   "cell_type": "markdown",
   "id": "54e16d7a",
   "metadata": {},
   "source": [
    "#### Read the csv file"
   ]
  },
  {
   "cell_type": "code",
   "execution_count": 3,
   "id": "aacb0a42",
   "metadata": {},
   "outputs": [],
   "source": [
    "df = pd.read_csv('EntsoeEnergyPrice.csv', parse_dates=['Date'], dayfirst=True)"
   ]
  },
  {
   "cell_type": "markdown",
   "id": "1b0ec6f4",
   "metadata": {},
   "source": [
    "#### Define the Date"
   ]
  },
  {
   "cell_type": "code",
   "execution_count": 4,
   "id": "ca579957",
   "metadata": {
    "scrolled": true
   },
   "outputs": [
    {
     "name": "stdout",
     "output_type": "stream",
     "text": [
      "Earliest date found in the dataset: 2021-07-12\n",
      "Latest date found in the dataset: 2023-05-08\n",
      "Today's date: 2023-05-08\n"
     ]
    }
   ],
   "source": [
    "# The earliest date in the dataset\n",
    "min_date = pd.to_datetime(df['Date'].min(), format='%Y-%m-%d').date()\n",
    "\n",
    "# The latest date in dataset\n",
    "max_date = pd.to_datetime(df['Date'].max(), format='%Y/%m/%d').date()\n",
    "\n",
    "# Today date\n",
    "today = datetime.today().date()\n",
    "\n",
    "print('Earliest date found in the dataset:', min_date)\n",
    "print('Latest date found in the dataset:', max_date)\n",
    "print('Today\\'s date:', today)"
   ]
  },
  {
   "cell_type": "code",
   "execution_count": 5,
   "id": "b40dd578",
   "metadata": {},
   "outputs": [
    {
     "name": "stdout",
     "output_type": "stream",
     "text": [
      "The dataset is updated!\n",
      "2021-07-05\n",
      "2023-05-08\n",
      "[]\n",
      "['11-07-2021', '10-07-2021', '09-07-2021', '08-07-2021', '07-07-2021', '06-07-2021', '05-07-2021']\n"
     ]
    }
   ],
   "source": [
    "# Create list of the days that are missing\n",
    "datesL = [] # Lastest Dates\n",
    "datesE = [] # Earlist Dates\n",
    "\n",
    "# Days of difference between today and lastest date\n",
    "dif_days = (today - max_date).days\n",
    "\n",
    "# Check if the dataset is updated\n",
    "if dif_days != 0:\n",
    "    print('The difference between the latest date and today is:', dif_days, 'days')\n",
    "else:\n",
    "    print('The dataset is updated!')\n",
    "\n",
    "# Updated the dates of interesting\n",
    "# Lastest Dates\n",
    "if dif_days != 0:\n",
    "    for i in range(dif_days):\n",
    "        max_date += timedelta(days=1)\n",
    "        datesL.append(max_date.strftime(\"%d-%m-%Y\"))\n",
    "        \n",
    "# Earlist Dates\n",
    "for i in range(7):\n",
    "    min_date = min_date - timedelta(days=1)\n",
    "    datesE.append(min_date.strftime(\"%d-%m-%Y\"))\n",
    "\n",
    "    \n",
    "print(min_date)\n",
    "print(max_date)    \n",
    "    \n",
    "print(datesL)\n",
    "print(datesE)"
   ]
  },
  {
   "cell_type": "markdown",
   "id": "8ec3bed9",
   "metadata": {},
   "source": [
    "#### Get the Price information based on the dates"
   ]
  },
  {
   "cell_type": "code",
   "execution_count": 6,
   "id": "8bdbf3d3",
   "metadata": {},
   "outputs": [],
   "source": [
    "# Create a temporary DataFrame to store the daily price \n",
    "df_comb = pd.DataFrame() # Temporary DataFrame combine the prices with the original\n",
    "df_tempE = pd.DataFrame() # Temporary DataFrame for prices (earliest dates)\n",
    "df_tempL = pd.DataFrame() # Temporary DataFrame for prices (latest dates)\n",
    "\n",
    "# Updating the dataset with latest dates\n",
    "if dif_days != 0:\n",
    "    for actual_date in datesL:\n",
    "        # Create a URL with the new date\n",
    "        url = start_url + actual_date.replace(\"-\", \".\") + end_url\n",
    "\n",
    "        # Copy the information from the URL into a temporary DataFrame\n",
    "        df_tempL = pd.read_html(url)[0]\n",
    "\n",
    "        # Add a Date column to the temporary DataFrame\n",
    "        df_tempL['Date'] = pd.to_datetime(df['Date'], format='%Y-%m-%d')\n",
    "\n",
    "        # Append the information from the temporary DataFrame to the combined DataFrame\n",
    "        df_comb = pd.concat([df_comb, df_tempL], ignore_index=True)\n",
    "        \n",
    "# Updating the dataset with earliest dates\n",
    "for actual_date in datesE:\n",
    "    # Create a URL with the new date\n",
    "    url = start_url + actual_date.replace(\"-\", \".\") + end_url\n",
    "\n",
    "    # Copy the information from the URL into a temporary DataFrame\n",
    "    df_tempE = pd.read_html(url)[0]\n",
    "\n",
    "    # Add a Date column to the temporary DataFrame\n",
    "    df_tempE['Date'] = pd.to_datetime(df['Date'], format='%Y-%m-%d')\n",
    "\n",
    "    # Append the information from the temporary DataFrame to the combined DataFrame\n",
    "    df_comb = pd.concat([df_comb, df_tempE], ignore_index=True)"
   ]
  },
  {
   "cell_type": "markdown",
   "id": "4715f7bc",
   "metadata": {},
   "source": [
    "#### Cleaning the data"
   ]
  },
  {
   "cell_type": "code",
   "execution_count": 7,
   "id": "2062a702",
   "metadata": {},
   "outputs": [],
   "source": [
    "#Drop the first level of columns\n",
    "df_comb.columns = df_comb.columns.droplevel()\n",
    "\n",
    "#Rename the Columns\n",
    "df_comb = df_comb.rename(columns={\n",
    "    \"index\": \"Index\",\n",
    "    \"MTU\": \"start-end [time]\",\n",
    "    \"Day-ahead Price\": \"Import Grid (EUR/kWh)\",\n",
    "    \"\": \"Date\"\n",
    "})\n",
    "\n",
    "#Split the hours in start e end\n",
    "df_comb[['Hour', 'End']] = df_comb['start-end [time]'].str.split('-', expand=True)\n",
    "\n",
    "#Remove blank spaces\n",
    "df_comb['Hour'] = df_comb['Hour'].str.strip()\n",
    "df_comb['End'] = df_comb['End'].str.strip()\n",
    "\n",
    "#Remove the original column\n",
    "df_comb.drop('start-end [time]', axis=1, inplace=True)\n",
    "df_comb.drop('End', axis=1, inplace=True)\n",
    "\n",
    "#Creating a new column Price and converting the MWh to KWh\n",
    "df_comb['Import Grid (EUR/kWh)'] = df_comb['[EUR / MWh]'] / 1000\n",
    "df_comb = df_comb.drop('[EUR / MWh]', axis=1)\n"
   ]
  },
  {
   "cell_type": "code",
   "execution_count": 8,
   "id": "03b699e6",
   "metadata": {},
   "outputs": [],
   "source": [
    "df_comb['Export Grid (EUR/kWh)'] = df_comb['Import Grid (EUR/kWh)']\n",
    "\n",
    "# Substituir valores maiores do que zero por 'ZERO' na coluna Export Grid (EUR/kWh)\n",
    "df_comb.loc[df_comb['Import Grid (EUR/kWh)'] < 0, 'Import Grid (EUR/kWh)'] = 0\n",
    "\n",
    "# Substituir valores menores ou iguais a zero por zero na coluna Import Grid (EUR/kWh)\n",
    "df_comb.loc[df_comb['Export Grid (EUR/kWh)'] > 0, 'Export Grid (EUR/kWh)'] = 0\n",
    "df_comb.loc[df_comb['Export Grid (EUR/kWh)'] < 0, 'Export Grid (EUR/kWh)'] = df_comb['Export Grid (EUR/kWh)']*(-1)"
   ]
  },
  {
   "cell_type": "markdown",
   "id": "51066424",
   "metadata": {},
   "source": [
    "#### Salving the date in a CSV file"
   ]
  },
  {
   "cell_type": "code",
   "execution_count": 9,
   "id": "f67f2344",
   "metadata": {},
   "outputs": [],
   "source": [
    "# Save in a csv file\n",
    "df.to_csv('EntsoeEnergyPrice.csv', index=False)"
   ]
  }
 ],
 "metadata": {
  "kernelspec": {
   "display_name": "Python 3 (ipykernel)",
   "language": "python",
   "name": "python3"
  },
  "language_info": {
   "codemirror_mode": {
    "name": "ipython",
    "version": 3
   },
   "file_extension": ".py",
   "mimetype": "text/x-python",
   "name": "python",
   "nbconvert_exporter": "python",
   "pygments_lexer": "ipython3",
   "version": "3.10.9"
  }
 },
 "nbformat": 4,
 "nbformat_minor": 5
}
