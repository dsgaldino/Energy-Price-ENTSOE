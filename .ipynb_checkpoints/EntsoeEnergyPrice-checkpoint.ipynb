{
 "cells": [
  {
   "cell_type": "markdown",
   "id": "44e15106",
   "metadata": {},
   "source": [
    "# Energy Price\n",
    "\n",
    "This application retrieves the price information provided by the Entsoe transparency portal, \n",
    "starting from the requested date up to today's date. The values are transformed from MWh to KWh."
   ]
  },
  {
   "cell_type": "markdown",
   "id": "b7869154",
   "metadata": {},
   "source": [
    "#### Importing Libraries"
   ]
  },
  {
   "cell_type": "code",
   "execution_count": 1,
   "id": "24e7a780",
   "metadata": {},
   "outputs": [],
   "source": [
    "import pandas as pd\n",
    "from datetime import timedelta, datetime"
   ]
  },
  {
   "cell_type": "markdown",
   "id": "9d3fbd99",
   "metadata": {},
   "source": [
    "#### Define the url"
   ]
  },
  {
   "cell_type": "code",
   "execution_count": 2,
   "id": "88eb2ae8",
   "metadata": {},
   "outputs": [],
   "source": [
    "# URL\n",
    "start_url = 'https://transparency.entsoe.eu/transmission-domain/r2/dayAheadPrices/show?name=&defaultValue=false&viewType=TABLE&areaType=BZN&atch=false&dateTime.dateTime='\n",
    "end_url = '+00:00|CET|DAY&biddingZone.values=CTY|10YNL----------L!BZN|10YNL----------L&resolution.values=PT60M&dateTime.timezone=CET_CEST&dateTime.timezone_input=CET+(UTC+1)+/+CEST+(UTC+2)'"
   ]
  },
  {
   "cell_type": "markdown",
   "id": "862dfe17",
   "metadata": {},
   "source": [
    "#### Function Update Dataset"
   ]
  },
  {
   "cell_type": "code",
   "execution_count": null,
   "id": "84e25995",
   "metadata": {},
   "outputs": [],
   "source": [
    "def update_dataset(dates, url_format, df_comb):\n",
    "    for actual_date in dates:\n",
    "        # Create a URL with the new date\n",
    "        url = start_url + actual_date.replace(\"-\", \".\") + end_url\n",
    "\n",
    "        # Copy the information from the URL into a temporary DataFrame\n",
    "        df_temp = pd.read_html(url)[0]\n",
    "\n",
    "        # Add a Date column to the temporary DataFrame\n",
    "        df_temp['Date'] = pd.to_datetime(actual_date, format=url_format).strftime(\"%Y-%m-%d\")\n",
    "\n",
    "        # Append the information from the temporary DataFrame to the combined DataFrame\n",
    "        df_comb = pd.concat([df_comb, df_temp], ignore_index=True)\n",
    "\n",
    "    return df_comb"
   ]
  },
  {
   "cell_type": "markdown",
   "id": "54e16d7a",
   "metadata": {},
   "source": [
    "#### Read the csv file"
   ]
  },
  {
   "cell_type": "code",
   "execution_count": null,
   "id": "2345f486",
   "metadata": {},
   "outputs": [],
   "source": [
    "# Read the original dataset\n",
    "df = pd.read_csv('EntsoeEnergyPrice.csv', parse_dates=['Date'], dayfirst=True)"
   ]
  },
  {
   "cell_type": "markdown",
   "id": "1b0ec6f4",
   "metadata": {},
   "source": [
    "#### Define the Date"
   ]
  },
  {
   "cell_type": "code",
   "execution_count": 4,
   "id": "ca579957",
   "metadata": {
    "scrolled": true
   },
   "outputs": [],
   "source": [
    "# Read the original dataset\n",
    "df = pd.read_csv('EntsoeEnergyPrice.csv', parse_dates=['Date'], dayfirst=True)\n",
    "\n",
    "# The earliest date in the dataset\n",
    "min_date = df['Date'].min().date()\n",
    "\n",
    "# The latest date in the dataset\n",
    "max_date = df['Date'].max().date()\n",
    "\n",
    "# Today's date\n",
    "today = datetime.today().date()\n",
    "\n",
    "print('Earliest date found in the dataset:', min_date)\n",
    "print('Latest date found in the dataset:', max_date)\n",
    "print('Today\\'s date:', today)\n",
    "\n",
    "# Create list of the days that are missing\n",
    "datesL = []  # Latest Dates\n",
    "datesE = []  # Earliest Dates\n",
    "\n",
    "# Days of difference between today and latest date\n",
    "dif_days = (today - max_date).days\n",
    "\n",
    "# Check if the dataset is updated\n",
    "if dif_days != 0:\n",
    "    print('The difference between the latest date and today is:', dif_days, 'days')\n",
    "else:\n",
    "    print('The dataset is updated!')"
   ]
  },
  {
   "cell_type": "code",
   "execution_count": 5,
   "id": "b40dd578",
   "metadata": {},
   "outputs": [],
   "source": [
    "# Updated the dates of interest\n",
    "# Latest Dates\n",
    "if dif_days != 0:\n",
    "    datesL = [(max_date + timedelta(days=i+1)).strftime(\"%d-%m-%Y\") for i in range(dif_days)]\n",
    "\n",
    "# Earliest Dates\n",
    "datesE = [(min_date - timedelta(days=1)).strftime(\"%d-%m-%Y\")]\n",
    "\n",
    "print(\"The list of days with data to be collected.\")\n",
    "print(datesL)\n",
    "print(datesE)"
   ]
  },
  {
   "cell_type": "markdown",
   "id": "8ec3bed9",
   "metadata": {},
   "source": [
    "#### Get the Price information based on the dates"
   ]
  },
  {
   "cell_type": "code",
   "execution_count": 6,
   "id": "a42e8249",
   "metadata": {},
   "outputs": [],
   "source": [
    "# Create a temporary DataFrame to store the daily price \n",
    "df_comb = pd.DataFrame()  # Temporary DataFrame to combine the prices with the original\n",
    "\n",
    "# Updating the dataset with latest dates\n",
    "if dif_days != 0:\n",
    "    df_comb = update_dataset(datesL, \"%d-%m-%Y\", df_comb)\n",
    "\n",
    "# Updating the dataset with earliest dates\n",
    "if min_date >= pd.to_datetime(\"2012-01-01\").date():\n",
    "    df_comb = update_dataset(datesE, \"%d-%m-%Y\", df_comb)"
   ]
  },
  {
   "cell_type": "markdown",
   "id": "4715f7bc",
   "metadata": {},
   "source": [
    "#### Cleaning the data"
   ]
  },
  {
   "cell_type": "code",
   "execution_count": 7,
   "id": "2062a702",
   "metadata": {},
   "outputs": [],
   "source": [
    "# Drop the first level of columns\n",
    "df_comb.columns = df_comb.columns.droplevel()\n",
    "\n",
    "# Rename the columns\n",
    "column_mapping = {\n",
    "    \"index\": \"Index\",\n",
    "    \"MTU\": \"start-end [time]\",\n",
    "    \"Day-ahead Price\": \"Import Grid (EUR/kWh)\",\n",
    "    \"\": \"Date\"\n",
    "}\n",
    "\n",
    "df_comb.rename(columns=column_mapping, inplace=True)\n",
    "\n",
    "# Split the hours in start and end\n",
    "df_comb[['Hour', 'End']] = df_comb['start-end [time]'].str.split('-', expand=True)\n",
    "\n",
    "# Remove blank spaces\n",
    "df_comb['Hour'] = df_comb['Hour'].str.strip()\n",
    "df_comb['End'] = df_comb['End'].str.strip()\n",
    "\n",
    "# Remove the original column\n",
    "df_comb.drop('start-end [time]', axis=1, inplace=True)\n",
    "df_comb.drop('End', axis=1, inplace=True)\n",
    "\n",
    "# Creating a new column \"Price\" and converting MWh to kWh\n",
    "df_comb['Import Grid (EUR/kWh)'] = df_comb['[EUR / MWh]'] / 1000\n",
    "df_comb.drop('[EUR / MWh]', axis=1, inplace=True)\n",
    "\n",
    "df_comb['Export Grid (EUR/kWh)'] = df_comb['Import Grid (EUR/kWh)']\n",
    "\n",
    "# Replace values greater than zero with 'ZERO' in the \"Export Grid (EUR/kWh)\" column\n",
    "df_comb.loc[df_comb['Import Grid (EUR/kWh)'] < 0, 'Import Grid (EUR/kWh)'] = 0\n",
    "\n",
    "# Replace values less than or equal to zero with zero in the \"Import Grid (EUR/kWh)\" column\n",
    "df_comb.loc[df_comb['Export Grid (EUR/kWh)'] > 0, 'Export Grid (EUR/kWh)'] = 0\n",
    "df_comb.loc[df_comb['Export Grid (EUR/kWh)'] < 0, 'Export Grid (EUR/kWh)'] = df_comb['Export Grid (EUR/kWh)'] * (-1)"
   ]
  },
  {
   "cell_type": "markdown",
   "id": "51066424",
   "metadata": {},
   "source": [
    "#### Salving the date in a CSV file"
   ]
  },
  {
   "cell_type": "code",
   "execution_count": 10,
   "id": "f67f2344",
   "metadata": {},
   "outputs": [],
   "source": [
    "# Append the information from the temporary DataFrame to the combined DataFrame\n",
    "df = pd.concat([df, df_comb], ignore_index=True)\n",
    "\n",
    "# Save to a CSV file\n",
    "df.to_csv('EntsoeEnergyPrice.csv', index=False)"
   ]
  }
 ],
 "metadata": {
  "kernelspec": {
   "display_name": "Python 3 (ipykernel)",
   "language": "python",
   "name": "python3"
  },
  "language_info": {
   "codemirror_mode": {
    "name": "ipython",
    "version": 3
   },
   "file_extension": ".py",
   "mimetype": "text/x-python",
   "name": "python",
   "nbconvert_exporter": "python",
   "pygments_lexer": "ipython3",
   "version": "3.10.9"
  }
 },
 "nbformat": 4,
 "nbformat_minor": 5
}
